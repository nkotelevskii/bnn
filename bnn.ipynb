{
 "cells": [
  {
   "cell_type": "code",
   "execution_count": 1,
   "metadata": {},
   "outputs": [],
   "source": [
    "import torch\n",
    "import torch.nn as nn\n",
    "import torch.nn.functional as F\n",
    "from torch.utils.data import TensorDataset, DataLoader\n",
    "\n",
    "from alpaca.dataloader.builder import build_dataset\n",
    "\n",
    "import torchvision.datasets as datasets\n",
    "import numpy as np\n",
    "import matplotlib.pyplot as plt\n",
    "\n",
    "import pdb\n",
    "from tqdm import tqdm\n",
    "\n",
    "from torchsummary import summary\n",
    "\n",
    "%matplotlib inline"
   ]
  },
  {
   "cell_type": "code",
   "execution_count": 2,
   "metadata": {},
   "outputs": [],
   "source": [
    "device = 'cuda:0' if torch.cuda.is_available() else 'cpu'\n",
    "torchType = torch.float32"
   ]
  },
  {
   "cell_type": "markdown",
   "metadata": {},
   "source": [
    "### Data"
   ]
  },
  {
   "cell_type": "markdown",
   "metadata": {},
   "source": [
    "```python \n",
    "DATASETS = {\n",
    "    'boston_housing': BostonHousingData,\n",
    "    'concrete': ConcreteData,\n",
    "    'energy_efficiency': EnergyEfficiencyData,\n",
    "    'kin8nm': Kin8nmData,\n",
    "    'naval_propulsion': NavalPropulsionData,\n",
    "    'ccpp': CCPPData,\n",
    "    'protein_structure': ProteinStructureData,\n",
    "    'red_wine': RedWineData,\n",
    "    'yacht_hydrodynamics': YachtHydrodynamicsData,\n",
    "    'year_prediction_msd': YearPredictionMSDData,\n",
    "    'mnist': MnistData,\n",
    "    'fashion_mnist': FashionMnistData,\n",
    "    'cifar_10': Cifar10,\n",
    "    'svhn': SVHN\n",
    "}\n",
    "```"
   ]
  },
  {
   "cell_type": "code",
   "execution_count": 3,
   "metadata": {},
   "outputs": [],
   "source": [
    "num_epoches = 20001\n",
    "print_info = 1000\n",
    "\n",
    "train_batch_size = 250\n",
    "val_dataset = 10\n",
    "val_batch_size = 10\n",
    "test_batch_size = 10"
   ]
  },
  {
   "cell_type": "code",
   "execution_count": 4,
   "metadata": {},
   "outputs": [],
   "source": [
    "class Dataset():\n",
    "    def __init__(self, dataset_name='mnist'):\n",
    "        self.dataset_name = dataset_name\n",
    "\n",
    "        try:\n",
    "            dataset = build_dataset(self.dataset_name, val_size=val_dataset)\n",
    "        except TypeError:\n",
    "            dataset = build_dataset(self.dataset_name, val_split=val_dataset)\n",
    "        x_train, y_train = dataset.dataset('train')\n",
    "        print(f'Train data shape {x_train.shape[0]}')\n",
    "        self.train_ans = y_train\n",
    "        self.in_features = x_train.shape[1:]\n",
    "        x_val, y_val = dataset.dataset('val')\n",
    "        \n",
    "        if self.dataset_name in ['mnist', 'fashion_mnist']:\n",
    "            x_train /= x_train.max()\n",
    "            x_val /= x_val.max()\n",
    "            x_shape = (-1, 1, 28, 28)\n",
    "        else:\n",
    "            x_shape = (-1, *x_train.shape[1:])\n",
    "            \n",
    "        self.train = TensorDataset(torch.tensor(x_train.reshape(x_shape), dtype=torch.float32, device=device), torch.tensor(y_train, dtype=torch.float32, device=device))\n",
    "        self.validation = TensorDataset(torch.tensor(x_val.reshape(x_shape), dtype=torch.float32, device=device), torch.tensor(y_val, dtype=torch.float32, device=device))\n",
    "        self.train_dataloader = DataLoader(self.train, batch_size=train_batch_size)\n",
    "        self.val_dataloader = DataLoader(self.validation, batch_size=val_batch_size)\n",
    "        \n",
    "        if self.dataset_name=='mnist':\n",
    "            test = datasets.MNIST(root=f'./data/{dataset_name}', download=True, train=False)\n",
    "            data_test = test.test_data.type(torchType).to(device)\n",
    "            labels_test = test.test_labels.type(torchType).to(device)\n",
    "\n",
    "            self.test = data_test.data\n",
    "            self.test_labels = labels_test.data\n",
    "\n",
    "            test_data = []\n",
    "            for i in range(self.test.shape[0]):\n",
    "                test_data.append([self.test[i], self.test_labels[i]])\n",
    "            self.test_dataloader = torch.utils.data.DataLoader(test_data, batch_size=test_batch_size, shuffle=False)\n",
    "    \n",
    "    def next_train_batch(self):\n",
    "        for train_batch in self.train_dataloader:\n",
    "            batch = train_batch[0]\n",
    "            labels = train_batch[1]\n",
    "            if self.dataset_name in ['mnist', 'fashion_mnist']:\n",
    "                batch = torch.distributions.Binomial(probs=batch).sample()\n",
    "            yield batch, labels\n",
    "\n",
    "    def next_val_batch(self):\n",
    "        for val_batch in self.val_dataloader:\n",
    "            batch = val_batch[0]\n",
    "            labels = val_batch[1]\n",
    "            yield batch, labels\n",
    "\n",
    "    def next_test_batch(self):\n",
    "        for test_batch in self.test_dataloader:\n",
    "            batch = test_batch[0]\n",
    "            labels = test_batch[1]\n",
    "            if self.dataset_name in ['mnist', 'fashion_mnist']:\n",
    "                batch = torch.distributions.Binomial(probs=batch).sample()\n",
    "                batch = batch.view([-1, 1, 28, 28])\n",
    "            yield batch, labels"
   ]
  },
  {
   "cell_type": "code",
   "execution_count": null,
   "metadata": {},
   "outputs": [],
   "source": []
  },
  {
   "cell_type": "code",
   "execution_count": 5,
   "metadata": {},
   "outputs": [
    {
     "name": "stdout",
     "output_type": "stream",
     "text": [
      "Train data shape 69990\n"
     ]
    },
    {
     "name": "stderr",
     "output_type": "stream",
     "text": [
      "/home/nkotelevskii/anaconda3/envs/condatorch/lib/python3.7/site-packages/torchvision/datasets/mnist.py:60: UserWarning: test_data has been renamed data\n",
      "  warnings.warn(\"test_data has been renamed data\")\n",
      "/home/nkotelevskii/anaconda3/envs/condatorch/lib/python3.7/site-packages/torchvision/datasets/mnist.py:50: UserWarning: test_labels has been renamed targets\n",
      "  warnings.warn(\"test_labels has been renamed targets\")\n"
     ]
    }
   ],
   "source": [
    "dataset = Dataset(dataset_name='mnist')"
   ]
  },
  {
   "cell_type": "code",
   "execution_count": null,
   "metadata": {},
   "outputs": [],
   "source": []
  },
  {
   "cell_type": "markdown",
   "metadata": {},
   "source": [
    "### NN definition"
   ]
  },
  {
   "cell_type": "code",
   "execution_count": 6,
   "metadata": {},
   "outputs": [
    {
     "data": {
      "text/plain": [
       "'regression'"
      ]
     },
     "execution_count": 6,
     "metadata": {},
     "output_type": "execute_result"
    }
   ],
   "source": [
    "num_classes = len(np.unique(dataset.train_ans))\n",
    "problem = 'classification' if num_classes < 20 else 'regression'\n",
    "if problem == 'regression':\n",
    "    num_classes = 1\n",
    "problem"
   ]
  },
  {
   "cell_type": "code",
   "execution_count": 7,
   "metadata": {},
   "outputs": [
    {
     "data": {
      "text/plain": [
       "13"
      ]
     },
     "execution_count": 7,
     "metadata": {},
     "output_type": "execute_result"
    }
   ],
   "source": [
    "in_features = dataset.in_features[0]\n",
    "in_features"
   ]
  },
  {
   "cell_type": "code",
   "execution_count": 8,
   "metadata": {},
   "outputs": [],
   "source": [
    "last_features = 10"
   ]
  },
  {
   "cell_type": "code",
   "execution_count": 9,
   "metadata": {},
   "outputs": [],
   "source": [
    "class Net(nn.Module):\n",
    "    def __init__(self):\n",
    "        super(Net, self).__init__()\n",
    "        \n",
    "        if problem == 'classification':\n",
    "            self.conv1 = nn.Conv2d(in_channels=1, out_channels=16, kernel_size=5, stride=2, padding=2)\n",
    "            self.conv2 = nn.Conv2d(in_channels=16, out_channels=32, kernel_size=5, stride=2, padding=2)\n",
    "            self.conv3 = nn.Conv2d(in_channels=32, out_channels=64, kernel_size=5, stride=2, padding=2)\n",
    "            self.linear1 = nn.Linear(in_features=1024, out_features=256)\n",
    "            self.linear2 = nn.Linear(in_features=256, out_features=last_features)\n",
    "        else:\n",
    "            self.linear1 = nn.Linear(in_features=in_features, out_features=10*in_features)\n",
    "            self.linear2 = nn.Linear(in_features=10*in_features, out_features=last_features)\n",
    "\n",
    "    def forward(self, x):\n",
    "        if problem == 'classification':\n",
    "            h1 = torch.relu(self.conv1(x))\n",
    "            h2 = torch.relu(self.conv2(h1))\n",
    "            h3 = torch.relu(self.conv3(h2))\n",
    "            h3_flat = h3.view(h3.shape[0], -1)\n",
    "        else:\n",
    "            h3_flat = x\n",
    "        h4 = torch.relu(self.linear1(h3_flat))\n",
    "        h5 = torch.relu(self.linear2(h4))\n",
    "        return h5"
   ]
  },
  {
   "cell_type": "code",
   "execution_count": 10,
   "metadata": {},
   "outputs": [],
   "source": [
    "model = Net().to(device)"
   ]
  },
  {
   "cell_type": "code",
   "execution_count": 11,
   "metadata": {},
   "outputs": [
    {
     "name": "stdout",
     "output_type": "stream",
     "text": [
      "----------------------------------------------------------------\n",
      "        Layer (type)               Output Shape         Param #\n",
      "================================================================\n",
      "            Linear-1               [-1, 1, 130]           1,820\n",
      "            Linear-2                [-1, 1, 10]           1,310\n",
      "================================================================\n",
      "Total params: 3,130\n",
      "Trainable params: 3,130\n",
      "Non-trainable params: 0\n",
      "----------------------------------------------------------------\n",
      "Input size (MB): 0.00\n",
      "Forward/backward pass size (MB): 0.00\n",
      "Params size (MB): 0.01\n",
      "Estimated Total Size (MB): 0.01\n",
      "----------------------------------------------------------------\n"
     ]
    }
   ],
   "source": [
    "if problem == 'classification':\n",
    "    summary(model, input_size=(1, 28, 28))\n",
    "else:\n",
    "    summary(model, input_size=(1, in_features))"
   ]
  },
  {
   "cell_type": "markdown",
   "metadata": {},
   "source": [
    "### Bayesian last layer definition"
   ]
  },
  {
   "cell_type": "code",
   "execution_count": 12,
   "metadata": {},
   "outputs": [],
   "source": [
    "last_weight_mu = nn.Parameter(torch.randn((last_features, num_classes), device=device, dtype=torchType))\n",
    "last_weight_logvar = nn.Parameter(torch.randn((last_features, num_classes), device=device, dtype=torchType))\n",
    "\n",
    "last_bias_mu = nn.Parameter(torch.randn((1, num_classes), device=device, dtype=torchType))\n",
    "last_bias_logvar = nn.Parameter(torch.randn((1, num_classes), device=device, dtype=torchType))"
   ]
  },
  {
   "cell_type": "markdown",
   "metadata": {},
   "source": [
    "### Define optimizer"
   ]
  },
  {
   "cell_type": "code",
   "execution_count": 13,
   "metadata": {},
   "outputs": [],
   "source": [
    "params = list(model.parameters()) + [last_weight_mu, last_weight_logvar] + [last_bias_mu, last_bias_logvar]\n",
    "optimizer = torch.optim.Adam(params)\n",
    "scheduler = torch.optim.lr_scheduler.MultiStepLR(optimizer, np.linspace(start=10, stop=num_epoches, num=50), gamma=0.9)"
   ]
  },
  {
   "cell_type": "markdown",
   "metadata": {},
   "source": [
    "### Training"
   ]
  },
  {
   "cell_type": "code",
   "execution_count": 14,
   "metadata": {},
   "outputs": [],
   "source": [
    "std_normal = torch.distributions.Normal(loc=torch.tensor(0., device=device, dtype=torchType),\n",
    "                                       scale=torch.tensor(1., device=device, dtype=torchType),)"
   ]
  },
  {
   "cell_type": "code",
   "execution_count": 15,
   "metadata": {},
   "outputs": [
    {
     "name": "stderr",
     "output_type": "stream",
     "text": [
      "  0%|          | 15/20001 [00:00<02:13, 149.35it/s]"
     ]
    },
    {
     "name": "stdout",
     "output_type": "stream",
     "text": [
      "ELBO value is -1969046.875 on epoch number 0\n",
      "Mean validation MSE at epoch number 0 is 7665.44775390625\n",
      "Current KL is 0.8030207753181458\n"
     ]
    },
    {
     "name": "stderr",
     "output_type": "stream",
     "text": [
      "  5%|▌         | 1023/20001 [00:06<02:10, 144.96it/s]"
     ]
    },
    {
     "name": "stdout",
     "output_type": "stream",
     "text": [
      "ELBO value is -6680.2119140625 on epoch number 1000\n",
      "Mean validation MSE at epoch number 1000 is 57.852699279785156\n",
      "Current KL is 0.6091501116752625\n"
     ]
    },
    {
     "name": "stderr",
     "output_type": "stream",
     "text": [
      " 10%|█         | 2015/20001 [00:13<01:56, 154.87it/s]"
     ]
    },
    {
     "name": "stdout",
     "output_type": "stream",
     "text": [
      "ELBO value is -4507.89892578125 on epoch number 2000\n",
      "Mean validation MSE at epoch number 2000 is 59.2878303527832\n",
      "Current KL is 0.8268250823020935\n"
     ]
    },
    {
     "name": "stderr",
     "output_type": "stream",
     "text": [
      " 15%|█▌        | 3023/20001 [00:19<01:50, 154.23it/s]"
     ]
    },
    {
     "name": "stdout",
     "output_type": "stream",
     "text": [
      "ELBO value is -2641.317626953125 on epoch number 3000\n",
      "Mean validation MSE at epoch number 3000 is 20.325830459594727\n",
      "Current KL is 1.0989570617675781\n"
     ]
    },
    {
     "name": "stderr",
     "output_type": "stream",
     "text": [
      " 20%|██        | 4031/20001 [00:26<01:43, 154.36it/s]"
     ]
    },
    {
     "name": "stdout",
     "output_type": "stream",
     "text": [
      "ELBO value is -2929.76025390625 on epoch number 4000\n",
      "Mean validation MSE at epoch number 4000 is 12.463539123535156\n",
      "Current KL is 1.3552286624908447\n"
     ]
    },
    {
     "name": "stderr",
     "output_type": "stream",
     "text": [
      " 25%|██▌       | 5023/20001 [00:32<01:37, 154.36it/s]"
     ]
    },
    {
     "name": "stdout",
     "output_type": "stream",
     "text": [
      "ELBO value is -2743.01904296875 on epoch number 5000\n",
      "Mean validation MSE at epoch number 5000 is 11.994623184204102\n",
      "Current KL is 1.6025416851043701\n"
     ]
    },
    {
     "name": "stderr",
     "output_type": "stream",
     "text": [
      " 30%|███       | 6031/20001 [00:39<01:29, 156.75it/s]"
     ]
    },
    {
     "name": "stdout",
     "output_type": "stream",
     "text": [
      "ELBO value is -1863.131103515625 on epoch number 6000\n",
      "Mean validation MSE at epoch number 6000 is 11.634230613708496\n",
      "Current KL is 1.838252305984497\n"
     ]
    },
    {
     "name": "stderr",
     "output_type": "stream",
     "text": [
      " 35%|███▌      | 7023/20001 [00:45<01:22, 156.43it/s]"
     ]
    },
    {
     "name": "stdout",
     "output_type": "stream",
     "text": [
      "ELBO value is -1965.470947265625 on epoch number 7000\n",
      "Mean validation MSE at epoch number 7000 is 13.208304405212402\n",
      "Current KL is 2.0364298820495605\n"
     ]
    },
    {
     "name": "stderr",
     "output_type": "stream",
     "text": [
      " 40%|████      | 8031/20001 [00:52<01:16, 156.56it/s]"
     ]
    },
    {
     "name": "stdout",
     "output_type": "stream",
     "text": [
      "ELBO value is -1206.333740234375 on epoch number 8000\n",
      "Mean validation MSE at epoch number 8000 is 12.864912986755371\n",
      "Current KL is 2.238433361053467\n"
     ]
    },
    {
     "name": "stderr",
     "output_type": "stream",
     "text": [
      " 45%|████▌     | 9023/20001 [00:58<01:10, 156.53it/s]"
     ]
    },
    {
     "name": "stdout",
     "output_type": "stream",
     "text": [
      "ELBO value is -1112.089599609375 on epoch number 9000\n",
      "Mean validation MSE at epoch number 9000 is 11.413199424743652\n",
      "Current KL is 2.423302412033081\n"
     ]
    },
    {
     "name": "stderr",
     "output_type": "stream",
     "text": [
      " 50%|█████     | 10031/20001 [01:05<01:03, 156.37it/s]"
     ]
    },
    {
     "name": "stdout",
     "output_type": "stream",
     "text": [
      "ELBO value is -939.5399780273438 on epoch number 10000\n",
      "Mean validation MSE at epoch number 10000 is 11.291762351989746\n",
      "Current KL is 2.5674638748168945\n"
     ]
    },
    {
     "name": "stderr",
     "output_type": "stream",
     "text": [
      " 55%|█████▌    | 11023/20001 [01:11<00:57, 156.41it/s]"
     ]
    },
    {
     "name": "stdout",
     "output_type": "stream",
     "text": [
      "ELBO value is -905.5546264648438 on epoch number 11000\n",
      "Mean validation MSE at epoch number 11000 is 12.479893684387207\n",
      "Current KL is 2.6978085041046143\n"
     ]
    },
    {
     "name": "stderr",
     "output_type": "stream",
     "text": [
      " 60%|██████    | 12031/20001 [01:18<00:50, 156.38it/s]"
     ]
    },
    {
     "name": "stdout",
     "output_type": "stream",
     "text": [
      "ELBO value is -718.1116333007812 on epoch number 12000\n",
      "Mean validation MSE at epoch number 12000 is 13.121752738952637\n",
      "Current KL is 2.7885448932647705\n"
     ]
    },
    {
     "name": "stderr",
     "output_type": "stream",
     "text": [
      " 65%|██████▌   | 13023/20001 [01:24<00:44, 155.73it/s]"
     ]
    },
    {
     "name": "stdout",
     "output_type": "stream",
     "text": [
      "ELBO value is -662.1700439453125 on epoch number 13000\n",
      "Mean validation MSE at epoch number 13000 is 13.6211576461792\n",
      "Current KL is 2.89694881439209\n"
     ]
    },
    {
     "name": "stderr",
     "output_type": "stream",
     "text": [
      " 70%|███████   | 14031/20001 [01:31<00:38, 155.91it/s]"
     ]
    },
    {
     "name": "stdout",
     "output_type": "stream",
     "text": [
      "ELBO value is -670.2958374023438 on epoch number 14000\n",
      "Mean validation MSE at epoch number 14000 is 14.030771255493164\n",
      "Current KL is 3.037389039993286\n"
     ]
    },
    {
     "name": "stderr",
     "output_type": "stream",
     "text": [
      " 75%|███████▌  | 15023/20001 [01:37<00:32, 155.10it/s]"
     ]
    },
    {
     "name": "stdout",
     "output_type": "stream",
     "text": [
      "ELBO value is -581.7822265625 on epoch number 15000\n",
      "Mean validation MSE at epoch number 15000 is 15.036531448364258\n",
      "Current KL is 3.159209966659546\n"
     ]
    },
    {
     "name": "stderr",
     "output_type": "stream",
     "text": [
      " 80%|████████  | 16031/20001 [01:44<00:25, 154.30it/s]"
     ]
    },
    {
     "name": "stdout",
     "output_type": "stream",
     "text": [
      "ELBO value is -531.6737670898438 on epoch number 16000\n",
      "Mean validation MSE at epoch number 16000 is 15.670501708984375\n",
      "Current KL is 3.244945526123047\n"
     ]
    },
    {
     "name": "stderr",
     "output_type": "stream",
     "text": [
      " 85%|████████▌ | 17023/20001 [01:50<00:19, 153.56it/s]"
     ]
    },
    {
     "name": "stdout",
     "output_type": "stream",
     "text": [
      "ELBO value is -500.3828430175781 on epoch number 17000\n",
      "Mean validation MSE at epoch number 17000 is 15.912866592407227\n",
      "Current KL is 3.3410842418670654\n"
     ]
    },
    {
     "name": "stderr",
     "output_type": "stream",
     "text": [
      " 90%|█████████ | 18031/20001 [01:57<00:12, 152.08it/s]"
     ]
    },
    {
     "name": "stdout",
     "output_type": "stream",
     "text": [
      "ELBO value is -494.6930847167969 on epoch number 18000\n",
      "Mean validation MSE at epoch number 18000 is 17.519559860229492\n",
      "Current KL is 3.412440299987793\n"
     ]
    },
    {
     "name": "stderr",
     "output_type": "stream",
     "text": [
      " 95%|█████████▌| 19023/20001 [02:03<00:06, 150.28it/s]"
     ]
    },
    {
     "name": "stdout",
     "output_type": "stream",
     "text": [
      "ELBO value is -482.97991943359375 on epoch number 19000\n",
      "Mean validation MSE at epoch number 19000 is 17.103857040405273\n",
      "Current KL is 3.4698357582092285\n"
     ]
    },
    {
     "name": "stderr",
     "output_type": "stream",
     "text": [
      "100%|██████████| 20001/20001 [02:09<00:00, 154.04it/s]"
     ]
    },
    {
     "name": "stdout",
     "output_type": "stream",
     "text": [
      "ELBO value is -465.5469055175781 on epoch number 20000\n",
      "Mean validation MSE at epoch number 20000 is 17.824260711669922\n",
      "Current KL is 3.5273096561431885\n"
     ]
    },
    {
     "name": "stderr",
     "output_type": "stream",
     "text": [
      "\n"
     ]
    }
   ],
   "source": [
    "for ep in tqdm(range(num_epoches)):\n",
    "    for x_train, y_train_labels in dataset.next_train_batch():\n",
    "        emb = model(x_train)\n",
    "        last_weight = last_weight_mu + std_normal.sample(last_weight_mu.shape) * torch.exp(0.5 * last_weight_logvar)\n",
    "        last_bias = last_bias_mu + std_normal.sample(last_bias_mu.shape) * torch.exp(0.5 * last_bias_logvar)\n",
    "        preds = emb @ last_weight + last_bias\n",
    "        \n",
    "        if problem == 'classification':\n",
    "            log_likelihood = torch.distributions.Categorical(logits=preds).log_prob(y_train_labels).sum()\n",
    "        else:\n",
    "            log_likelihood = torch.distributions.Normal(loc=preds, scale=torch.tensor(1., device=device,\n",
    "                                                                                      dtype=torchType)).log_prob(y_train_labels).sum()\n",
    "    \n",
    "        KL = (0.5 * (-last_weight_logvar + torch.exp(last_weight_logvar) + last_weight_mu ** 2 - 1.)).mean() \\\n",
    "                        + (0.5 * (-last_bias_logvar + torch.exp(last_bias_logvar) + last_bias_mu ** 2 - 1.)).mean()\n",
    "        \n",
    "        elbo = log_likelihood - KL\n",
    "        (-elbo).backward()\n",
    "        \n",
    "        optimizer.step()\n",
    "        optimizer.zero_grad()\n",
    "    scheduler.step()\n",
    "        \n",
    "    if ep % print_info == 0:\n",
    "        print(f'ELBO value is {elbo.cpu().detach().numpy()} on epoch number {ep}')\n",
    "        score_total = []\n",
    "        with torch.no_grad():\n",
    "            for x_val, y_val_labels in dataset.next_val_batch():\n",
    "                emb = model(x_val)\n",
    "                last_weight = last_weight_mu\n",
    "                last_bias = last_bias_mu\n",
    "                logits = emb @ last_weight + last_bias\n",
    "                if problem == 'classification':\n",
    "                    probs = torch.softmax(logits, dim=-1)\n",
    "                    y_pred = torch.argmax(probs, dim=-1)\n",
    "                    score = (y_pred==y_val_labels).to(torchType).cpu().mean().numpy()\n",
    "                    score_total.append(score)\n",
    "                else:\n",
    "                    score = ((logits - y_val_labels)**2).mean().cpu().numpy()\n",
    "                    score_total.append(score)\n",
    "        \n",
    "        if problem == 'classification':\n",
    "            print(f\"Mean validation accuracy at epoch number {ep} is {np.array(score_total).mean()}\")\n",
    "        else:\n",
    "            print(f\"Mean validation MSE at epoch number {ep} is {np.array(score_total).mean()}\")\n",
    "        print(f'Current KL is {KL.cpu().detach().numpy()}')"
   ]
  },
  {
   "cell_type": "code",
   "execution_count": null,
   "metadata": {},
   "outputs": [],
   "source": []
  },
  {
   "cell_type": "markdown",
   "metadata": {},
   "source": [
    "# Inference for classification"
   ]
  },
  {
   "cell_type": "markdown",
   "metadata": {},
   "source": [
    "### Inference"
   ]
  },
  {
   "cell_type": "code",
   "execution_count": 16,
   "metadata": {},
   "outputs": [],
   "source": [
    "val_image_id = 2\n",
    "\n",
    "\n",
    "for batch in dataset.next_val_batch():\n",
    "    test_image = batch[0][val_image_id].squeeze()\n",
    "    test_label = batch[1][val_image_id]\n",
    "\n",
    "plt.title(f\"{test_label.cpu().numpy()}\")\n",
    "plt.imshow(test_image.cpu().numpy());"
   ]
  },
  {
   "cell_type": "code",
   "execution_count": 17,
   "metadata": {},
   "outputs": [],
   "source": [
    "n_samples = 100\n",
    "\n",
    "results = []\n",
    "with torch.no_grad():\n",
    "    for _ in range(n_samples):\n",
    "        emb = model(test_image[None, None, ...])\n",
    "        last_weight = last_weight_mu + std_normal.sample(last_weight_mu.shape) * torch.exp(0.5 * last_weight_logvar)\n",
    "        last_bias = last_bias_mu + std_normal.sample(last_bias_mu.shape) * torch.exp(0.5 * last_bias_logvar)\n",
    "        \n",
    "        logits = emb @ last_weight + last_bias\n",
    "        probs = torch.softmax(logits, dim=-1)\n",
    "        y_pred = torch.argmax(probs, dim=-1)\n",
    "        results.append(y_pred.cpu().item())\n",
    "        \n",
    "\n",
    "labels, counts = np.unique(results, return_counts=True)\n",
    "plt.bar(labels, counts, align='center')\n",
    "plt.xticks(ticks=np.arange(10))\n",
    "plt.xlim((-1, 10));"
   ]
  },
  {
   "cell_type": "markdown",
   "metadata": {},
   "source": [
    "### Find digits with non-trivial distribution"
   ]
  },
  {
   "cell_type": "code",
   "execution_count": 18,
   "metadata": {},
   "outputs": [],
   "source": [
    "n_samples = 100\n",
    "\n",
    "for val_batch in dataset.next_val_batch():\n",
    "    val_images = val_batch[0]\n",
    "    val_labels = val_batch[1]\n",
    "    for i in range(val_images.shape[0]):\n",
    "        test_image = val_images[i].squeeze()\n",
    "        test_label = val_labels[i].squeeze()\n",
    "        plt.close()\n",
    "        results = []\n",
    "        with torch.no_grad():\n",
    "            for _ in range(n_samples):\n",
    "                emb = model(test_image[None, None, ...])\n",
    "                last_weight = last_weight_mu + std_normal.sample(last_weight_mu.shape) * torch.exp(0.5 * last_weight_logvar)\n",
    "                last_bias = last_bias_mu + std_normal.sample(last_bias_mu.shape) * torch.exp(0.5 * last_bias_logvar)\n",
    "\n",
    "                logits = emb @ last_weight + last_bias\n",
    "                probs = torch.softmax(logits, dim=-1)\n",
    "                y_pred = torch.argmax(probs, dim=-1)\n",
    "                results.append(y_pred.cpu().item())\n",
    "        if np.unique(results).shape[0] > 1: # or np.unique(results)[0] != test_label:\n",
    "            print('-' * 100)\n",
    "            plt.title(f\"{test_label.cpu().numpy()}\")\n",
    "            plt.imshow(test_image.cpu().numpy());\n",
    "            plt.show()\n",
    "\n",
    "            labels, counts = np.unique(results, return_counts=True)\n",
    "            plt.bar(labels, counts, align='center')\n",
    "            plt.xticks(ticks=np.arange(10))\n",
    "            plt.xlim((-1, 10));\n",
    "            plt.show();"
   ]
  },
  {
   "cell_type": "code",
   "execution_count": null,
   "metadata": {},
   "outputs": [],
   "source": []
  },
  {
   "cell_type": "code",
   "execution_count": null,
   "metadata": {},
   "outputs": [],
   "source": []
  },
  {
   "cell_type": "markdown",
   "metadata": {},
   "source": [
    "# Inference for Regression"
   ]
  },
  {
   "cell_type": "code",
   "execution_count": 23,
   "metadata": {},
   "outputs": [
    {
     "name": "stdout",
     "output_type": "stream",
     "text": [
      "tensor([16.7000], device='cuda:0')\n"
     ]
    }
   ],
   "source": [
    "val_image_id = 0\n",
    "\n",
    "\n",
    "for batch in dataset.next_val_batch():\n",
    "    test_image = batch[0][val_image_id].squeeze()\n",
    "    test_label = batch[1][val_image_id]\n",
    "\n",
    "print(test_label)"
   ]
  },
  {
   "cell_type": "code",
   "execution_count": 24,
   "metadata": {},
   "outputs": [
    {
     "name": "stdout",
     "output_type": "stream",
     "text": [
      "Marginalized answer  16.372964668273926\n",
      "True answer tensor([16.7000], device='cuda:0')\n",
      "----------------------------------------------------------------------------------------------------\n",
      "Parameters are:\n",
      "Weight:\n",
      "Mean is \n",
      " [[-5.7733497e-43]\n",
      " [-6.0255834e-44]\n",
      " [-1.2277958e-13]\n",
      " [-5.0446745e-44]\n",
      " [ 2.0074294e+00]\n",
      " [ 7.1607366e-19]\n",
      " [-2.4595265e-13]\n",
      " [-8.4077908e-45]\n",
      " [-8.4077908e-45]\n",
      " [ 1.1350518e-43]]\n",
      "Variance is \n",
      " [[1.0000000e+00]\n",
      " [1.0000001e+00]\n",
      " [1.0000001e+00]\n",
      " [1.0000001e+00]\n",
      " [2.7631626e-05]\n",
      " [9.9999994e-01]\n",
      " [1.0000001e+00]\n",
      " [9.9999994e-01]\n",
      " [1.0000001e+00]\n",
      " [1.0000001e+00]]\n",
      "----------------------------------------------------------------------------------------------------\n",
      "Parameters are:\n",
      "Bias:\n",
      "Mean is \n",
      " [[1.2293063]]\n",
      "Variance is \n",
      " [[0.00560028]]\n"
     ]
    }
   ],
   "source": [
    "n_samples = 100\n",
    "\n",
    "results = []\n",
    "with torch.no_grad():\n",
    "    for _ in range(n_samples):\n",
    "        if problem == 'classification':\n",
    "            emb = model(test_image[None, None, ...])\n",
    "        else:\n",
    "            emb = model(test_image[None,  ...])\n",
    "        last_weight = last_weight_mu + std_normal.sample(last_weight_mu.shape) * torch.exp(0.5 * last_weight_logvar)\n",
    "        last_bias = last_bias_mu + std_normal.sample(last_bias_mu.shape) * torch.exp(0.5 * last_bias_logvar)\n",
    "        \n",
    "        logits = emb @ last_weight + last_bias\n",
    "        results.append(logits.cpu().item())\n",
    "        \n",
    "print('Marginalized answer ', np.mean(results))\n",
    "print('True answer', test_label)\n",
    "print('-' * 100)\n",
    "print(f'Parameters are:')\n",
    "print('Weight:')\n",
    "print(f'Mean is \\n {last_weight_mu.cpu().detach().numpy()}')\n",
    "print(f'Variance is \\n {np.exp(last_weight_logvar.cpu().detach().numpy())}')\n",
    "print('-' * 100)\n",
    "print(f'Parameters are:')\n",
    "print('Bias:')\n",
    "print(f'Mean is \\n {last_bias_mu.cpu().detach().numpy()}')\n",
    "print(f'Variance is \\n {np.exp(last_bias_logvar.cpu().detach().numpy())}')"
   ]
  },
  {
   "cell_type": "code",
   "execution_count": 21,
   "metadata": {},
   "outputs": [],
   "source": [
    "from sklearn.linear_model import LinearRegression, SGDRegressor\n",
    "from sklearn.metrics import mean_squared_error"
   ]
  },
  {
   "cell_type": "code",
   "execution_count": null,
   "metadata": {},
   "outputs": [],
   "source": [
    "X = dataset.train.tensors[0].cpu().numpy()\n",
    "y = dataset.train.tensors[1].cpu().numpy()\n",
    "\n",
    "X_val = dataset.validation.tensors[0].cpu().numpy()\n",
    "y_val = dataset.validation.tensors[1].cpu().numpy()"
   ]
  },
  {
   "cell_type": "code",
   "execution_count": 35,
   "metadata": {},
   "outputs": [
    {
     "name": "stdout",
     "output_type": "stream",
     "text": [
      "MSE of classical Linear regression is 18.19565773010254\n"
     ]
    }
   ],
   "source": [
    "lrg = LinearRegression()\n",
    "lrg.fit(X, y)\n",
    "\n",
    "print(f'MSE of classical Linear regression is {mean_squared_error(y_val, lrg.predict(X_val))}')"
   ]
  },
  {
   "cell_type": "code",
   "execution_count": 45,
   "metadata": {},
   "outputs": [
    {
     "name": "stderr",
     "output_type": "stream",
     "text": [
      "/home/nkotelevskii/anaconda3/envs/condatorch/lib/python3.7/site-packages/sklearn/linear_model/stochastic_gradient.py:152: DeprecationWarning: n_iter parameter is deprecated in 0.19 and will be removed in 0.21. Use max_iter and tol instead.\n",
      "  DeprecationWarning)\n"
     ]
    },
    {
     "name": "stdout",
     "output_type": "stream",
     "text": [
      "MSE of SGD Linear regression is 20.986923980669314\n"
     ]
    }
   ],
   "source": [
    "sgdlrg = SGDRegressor(penalty='none', n_iter=20000, early_stopping=True, learning_rate='constant', eta0=0.000001)\n",
    "sgdlrg.fit(X, np.ravel(y))\n",
    "\n",
    "print(f'MSE of SGD Linear regression is {mean_squared_error(y_val, sgdlrg.predict(X_val))}')"
   ]
  },
  {
   "cell_type": "code",
   "execution_count": null,
   "metadata": {},
   "outputs": [],
   "source": []
  },
  {
   "cell_type": "code",
   "execution_count": null,
   "metadata": {},
   "outputs": [],
   "source": []
  }
 ],
 "metadata": {
  "kernelspec": {
   "display_name": "Condatorch",
   "language": "python",
   "name": "condatorch"
  },
  "language_info": {
   "codemirror_mode": {
    "name": "ipython",
    "version": 3
   },
   "file_extension": ".py",
   "mimetype": "text/x-python",
   "name": "python",
   "nbconvert_exporter": "python",
   "pygments_lexer": "ipython3",
   "version": "3.7.6"
  }
 },
 "nbformat": 4,
 "nbformat_minor": 4
}
