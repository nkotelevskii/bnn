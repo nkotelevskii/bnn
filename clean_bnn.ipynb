{
 "cells": [
  {
   "cell_type": "code",
   "execution_count": 1,
   "metadata": {},
   "outputs": [],
   "source": [
    "import torch\n",
    "import numpy as np\n",
    "import matplotlib.pyplot as plt\n",
    "%matplotlib inline\n",
    "\n",
    "import sys\n",
    "sys.path.insert(0, './src')\n",
    "from data import Dataset\n",
    "from training import train\n",
    "from plotting import plot_mfg_classification, plot_mcdo_classification, mfg_regression_inference, mcdo_regression_inference\n",
    "from metrics import log_likelihood"
   ]
  },
  {
   "cell_type": "code",
   "execution_count": 2,
   "metadata": {},
   "outputs": [],
   "source": [
    "class dotdict(dict):\n",
    "    \"\"\"dot.notation access to dictionary attributes\"\"\"\n",
    "    __getattr__ = dict.get\n",
    "    __setattr__ = dict.__setitem__\n",
    "    __delattr__ = dict.__delitem__"
   ]
  },
  {
   "cell_type": "markdown",
   "metadata": {},
   "source": [
    "```python \n",
    "DATASETS = {\n",
    "    'boston_housing': BostonHousingData,\n",
    "    'concrete': ConcreteData,\n",
    "    'energy_efficiency': EnergyEfficiencyData,\n",
    "    'kin8nm': Kin8nmData,\n",
    "    'naval_propulsion': NavalPropulsionData,\n",
    "    'ccpp': CCPPData,\n",
    "    'protein_structure': ProteinStructureData,\n",
    "    'red_wine': RedWineData,\n",
    "    'yacht_hydrodynamics': YachtHydrodynamicsData,\n",
    "    'year_prediction_msd': YearPredictionMSDData,\n",
    "    'mnist': MnistData,\n",
    "    'fashion_mnist': FashionMnistData,\n",
    "    'cifar_10': Cifar10,\n",
    "    'svhn': SVHN\n",
    "}\n",
    "```"
   ]
  },
  {
   "cell_type": "code",
   "execution_count": 3,
   "metadata": {},
   "outputs": [],
   "source": [
    "args = dotdict({})"
   ]
  },
  {
   "cell_type": "code",
   "execution_count": 4,
   "metadata": {},
   "outputs": [],
   "source": [
    "args['device'] = 'cuda:0' if torch.cuda.is_available() else 'cpu'\n",
    "args['torchType'] = torch.float32\n",
    "\n",
    "args['model_type'] = 'mcdo' # 'mcdo', 'mfg'\n",
    "args['dataset_name'] = 'mnist'\n",
    "if args['dataset_name'].find('mnist') > -1:\n",
    "    args['num_epoches'] = 201\n",
    "    args['print_info'] = 50\n",
    "    args['n_IS'] = 10000\n",
    "    \n",
    "    args['train_batch_size'] = 100\n",
    "    args['val_dataset'] = 10000\n",
    "    args['val_batch_size'] = 100\n",
    "    args['test_batch_size'] = 100\n",
    "else:\n",
    "    args['n_IS'] = 1\n",
    "    args['num_epoches'] = 10001\n",
    "    args['print_info'] = 1000\n",
    "    args['train_batch_size'] = 150\n",
    "    args['val_dataset'] = 20\n",
    "    args['val_batch_size'] = 20\n",
    "    args['test_batch_size'] = 10"
   ]
  },
  {
   "cell_type": "code",
   "execution_count": 5,
   "metadata": {},
   "outputs": [
    {
     "name": "stdout",
     "output_type": "stream",
     "text": [
      "Train data shape 60000\n"
     ]
    },
    {
     "name": "stderr",
     "output_type": "stream",
     "text": [
      "/home/nkotelevskii/anaconda3/envs/condatorch/lib/python3.7/site-packages/torchvision/datasets/mnist.py:60: UserWarning: test_data has been renamed data\n",
      "  warnings.warn(\"test_data has been renamed data\")\n",
      "/home/nkotelevskii/anaconda3/envs/condatorch/lib/python3.7/site-packages/torchvision/datasets/mnist.py:50: UserWarning: test_labels has been renamed targets\n",
      "  warnings.warn(\"test_labels has been renamed targets\")\n"
     ]
    }
   ],
   "source": [
    "dataset = Dataset(args)"
   ]
  },
  {
   "cell_type": "code",
   "execution_count": 6,
   "metadata": {},
   "outputs": [],
   "source": [
    "# model, params = train(args, dataset)"
   ]
  },
  {
   "cell_type": "code",
   "execution_count": null,
   "metadata": {},
   "outputs": [],
   "source": []
  },
  {
   "cell_type": "code",
   "execution_count": 7,
   "metadata": {},
   "outputs": [],
   "source": [
    "# obj_id = 21\n",
    "\n",
    "# if args.problem == 'classification':\n",
    "#     if args.model_type == 'mfg':\n",
    "#         plot_mfg_classification(args, model, dataset, params)\n",
    "#     elif args.model_type == 'mcdo':\n",
    "#         plot_mcdo_classification(args, model, dataset, params)\n",
    "# else:\n",
    "#     if args.model_type == 'mfg':\n",
    "#         mfg_regression_inference(args, model, dataset, params, obj_id)\n",
    "#     elif args.model_type == 'mcdo':\n",
    "#         mcdo_regression_inference(args, model, dataset, params, obj_id)"
   ]
  },
  {
   "cell_type": "code",
   "execution_count": null,
   "metadata": {},
   "outputs": [],
   "source": []
  },
  {
   "cell_type": "code",
   "execution_count": null,
   "metadata": {},
   "outputs": [],
   "source": []
  },
  {
   "cell_type": "markdown",
   "metadata": {},
   "source": [
    "## Comparison of MFG and MCDO"
   ]
  },
  {
   "cell_type": "code",
   "execution_count": 8,
   "metadata": {},
   "outputs": [
    {
     "name": "stderr",
     "output_type": "stream",
     "text": [
      "  0%|          | 0/201 [00:00<?, ?it/s]"
     ]
    },
    {
     "name": "stdout",
     "output_type": "stream",
     "text": [
      "----------------------------------------------------------------\n",
      "        Layer (type)               Output Shape         Param #\n",
      "================================================================\n",
      "            Conv2d-1           [-1, 16, 14, 14]             416\n",
      "            Conv2d-2             [-1, 32, 7, 7]          12,832\n",
      "            Conv2d-3             [-1, 64, 4, 4]          51,264\n",
      "            Linear-4                  [-1, 256]         262,400\n",
      "            Linear-5                   [-1, 10]           2,570\n",
      "================================================================\n",
      "Total params: 329,482\n",
      "Trainable params: 329,482\n",
      "Non-trainable params: 0\n",
      "----------------------------------------------------------------\n",
      "Input size (MB): 0.00\n",
      "Forward/backward pass size (MB): 0.05\n",
      "Params size (MB): 1.26\n",
      "Estimated Total Size (MB): 1.31\n",
      "----------------------------------------------------------------\n"
     ]
    },
    {
     "name": "stderr",
     "output_type": "stream",
     "text": [
      "  0%|          | 1/201 [00:02<07:50,  2.35s/it]"
     ]
    },
    {
     "name": "stdout",
     "output_type": "stream",
     "text": [
      "ELBO value is -148.69802856445312 on epoch number 0\n",
      "Mean validation accuracy at epoch number 0 is 0.3958999514579773\n",
      "Current KL is 1.185486078262329\n"
     ]
    },
    {
     "name": "stderr",
     "output_type": "stream",
     "text": [
      " 25%|██▌       | 51/201 [01:54<05:38,  2.26s/it]"
     ]
    },
    {
     "name": "stdout",
     "output_type": "stream",
     "text": [
      "ELBO value is -3.6171488761901855 on epoch number 50\n",
      "Mean validation accuracy at epoch number 50 is 0.991599977016449\n",
      "Current KL is 2.617124080657959\n"
     ]
    },
    {
     "name": "stderr",
     "output_type": "stream",
     "text": [
      " 50%|█████     | 101/201 [03:46<03:46,  2.26s/it]"
     ]
    },
    {
     "name": "stdout",
     "output_type": "stream",
     "text": [
      "ELBO value is -2.271806240081787 on epoch number 100\n",
      "Mean validation accuracy at epoch number 100 is 0.991100013256073\n",
      "Current KL is 2.162872314453125\n"
     ]
    },
    {
     "name": "stderr",
     "output_type": "stream",
     "text": [
      " 75%|███████▌  | 151/201 [05:39<01:54,  2.29s/it]"
     ]
    },
    {
     "name": "stdout",
     "output_type": "stream",
     "text": [
      "ELBO value is -11.276079177856445 on epoch number 150\n",
      "Mean validation accuracy at epoch number 150 is 0.9908000230789185\n",
      "Current KL is 2.0957090854644775\n"
     ]
    },
    {
     "name": "stderr",
     "output_type": "stream",
     "text": [
      "100%|██████████| 201/201 [07:31<00:00,  2.24s/it]"
     ]
    },
    {
     "name": "stdout",
     "output_type": "stream",
     "text": [
      "ELBO value is -3.327393054962158 on epoch number 200\n",
      "Mean validation accuracy at epoch number 200 is 0.9915000200271606\n",
      "Current KL is 2.074145793914795\n"
     ]
    },
    {
     "name": "stderr",
     "output_type": "stream",
     "text": [
      "\n"
     ]
    }
   ],
   "source": [
    "## MFG\n",
    "args['model_type'] = 'mfg' # 'mcdo', 'mfg'\n",
    "model_mfg, params_mfg = train(args, dataset)"
   ]
  },
  {
   "cell_type": "code",
   "execution_count": 9,
   "metadata": {},
   "outputs": [
    {
     "name": "stderr",
     "output_type": "stream",
     "text": [
      "  0%|          | 0/201 [00:00<?, ?it/s]"
     ]
    },
    {
     "name": "stdout",
     "output_type": "stream",
     "text": [
      "----------------------------------------------------------------\n",
      "        Layer (type)               Output Shape         Param #\n",
      "================================================================\n",
      "            Conv2d-1           [-1, 16, 14, 14]             416\n",
      "            Conv2d-2             [-1, 32, 7, 7]          12,832\n",
      "            Conv2d-3             [-1, 64, 4, 4]          51,264\n",
      "            Linear-4                  [-1, 256]         262,400\n",
      "            Linear-5                   [-1, 10]           2,570\n",
      "================================================================\n",
      "Total params: 329,482\n",
      "Trainable params: 329,482\n",
      "Non-trainable params: 0\n",
      "----------------------------------------------------------------\n",
      "Input size (MB): 0.00\n",
      "Forward/backward pass size (MB): 0.05\n",
      "Params size (MB): 1.26\n",
      "Estimated Total Size (MB): 1.31\n",
      "----------------------------------------------------------------\n"
     ]
    },
    {
     "name": "stderr",
     "output_type": "stream",
     "text": [
      "  0%|          | 1/201 [00:01<06:13,  1.87s/it]"
     ]
    },
    {
     "name": "stdout",
     "output_type": "stream",
     "text": [
      "Log likelihood value is -162.95883178710938 on epoch number 0\n",
      "Mean validation accuracy at epoch number 0 is 0.7418000102043152\n"
     ]
    },
    {
     "name": "stderr",
     "output_type": "stream",
     "text": [
      " 25%|██▌       | 51/201 [01:30<04:30,  1.80s/it]"
     ]
    },
    {
     "name": "stdout",
     "output_type": "stream",
     "text": [
      "Log likelihood value is -59.582763671875 on epoch number 50\n",
      "Mean validation accuracy at epoch number 50 is 0.9917999505996704\n"
     ]
    },
    {
     "name": "stderr",
     "output_type": "stream",
     "text": [
      " 50%|█████     | 101/201 [03:00<03:05,  1.86s/it]"
     ]
    },
    {
     "name": "stdout",
     "output_type": "stream",
     "text": [
      "Log likelihood value is -25.692922592163086 on epoch number 100\n",
      "Mean validation accuracy at epoch number 100 is 0.9904998540878296\n"
     ]
    },
    {
     "name": "stderr",
     "output_type": "stream",
     "text": [
      " 75%|███████▌  | 151/201 [04:32<01:33,  1.87s/it]"
     ]
    },
    {
     "name": "stdout",
     "output_type": "stream",
     "text": [
      "Log likelihood value is -98.06649780273438 on epoch number 150\n",
      "Mean validation accuracy at epoch number 150 is 0.9925000071525574\n"
     ]
    },
    {
     "name": "stderr",
     "output_type": "stream",
     "text": [
      "100%|██████████| 201/201 [06:03<00:00,  1.81s/it]"
     ]
    },
    {
     "name": "stdout",
     "output_type": "stream",
     "text": [
      "Log likelihood value is -28.572059631347656 on epoch number 200\n",
      "Mean validation accuracy at epoch number 200 is 0.9881000518798828\n"
     ]
    },
    {
     "name": "stderr",
     "output_type": "stream",
     "text": [
      "\n"
     ]
    }
   ],
   "source": [
    "## MCDO\n",
    "args['model_type'] = 'mcdo' # 'mcdo', 'mfg'\n",
    "model_mcdo, params_mcdo = train(args, dataset)"
   ]
  },
  {
   "cell_type": "code",
   "execution_count": null,
   "metadata": {},
   "outputs": [],
   "source": []
  },
  {
   "cell_type": "code",
   "execution_count": 10,
   "metadata": {},
   "outputs": [
    {
     "name": "stderr",
     "output_type": "stream",
     "text": [
      "100it [13:13,  7.93s/it]\n",
      "100it [03:33,  2.14s/it]\n"
     ]
    }
   ],
   "source": [
    "args['model_type'] = 'mfg' # 'mcdo', 'mfg'\n",
    "mfg_ll = log_likelihood(model_mfg, params_mfg, dataset, args)\n",
    "\n",
    "args['model_type'] = 'mcdo' # 'mcdo', 'mfg'\n",
    "mcdo_ll = log_likelihood(model_mcdo, params_mcdo, dataset, args)"
   ]
  },
  {
   "cell_type": "code",
   "execution_count": null,
   "metadata": {},
   "outputs": [],
   "source": []
  },
  {
   "cell_type": "code",
   "execution_count": 11,
   "metadata": {},
   "outputs": [
    {
     "name": "stdout",
     "output_type": "stream",
     "text": [
      "Mean-Field-Gaussian loglikelihood: -9.44112829208374 +- 2.0521901661063016\n",
      "Monte-Carlo Dropout loglikelihood: -0.2614870929718018 +- 0.04902956887986008\n"
     ]
    }
   ],
   "source": [
    "print(f'Mean-Field-Gaussian loglikelihood: {np.mean(mfg_ll)} +/- {np.std(mfg_ll)}')\n",
    "print(f'Monte-Carlo Dropout loglikelihood: {np.mean(mcdo_ll)} +/- {np.std(mcdo_ll)}')"
   ]
  },
  {
   "cell_type": "code",
   "execution_count": null,
   "metadata": {},
   "outputs": [],
   "source": []
  },
  {
   "cell_type": "code",
   "execution_count": null,
   "metadata": {},
   "outputs": [],
   "source": []
  },
  {
   "cell_type": "markdown",
   "metadata": {},
   "source": [
    "## Inference Examples"
   ]
  },
  {
   "cell_type": "code",
   "execution_count": 17,
   "metadata": {},
   "outputs": [],
   "source": [
    "plot_mfg_classification(args, model_mfg, dataset, params_mfg)"
   ]
  },
  {
   "cell_type": "code",
   "execution_count": null,
   "metadata": {},
   "outputs": [],
   "source": []
  },
  {
   "cell_type": "code",
   "execution_count": null,
   "metadata": {},
   "outputs": [],
   "source": []
  },
  {
   "cell_type": "code",
   "execution_count": 18,
   "metadata": {},
   "outputs": [],
   "source": [
    "plot_mcdo_classification(args, model_mcdo, dataset, params_mcdo)"
   ]
  },
  {
   "cell_type": "code",
   "execution_count": null,
   "metadata": {},
   "outputs": [],
   "source": []
  }
 ],
 "metadata": {
  "kernelspec": {
   "display_name": "Condatorch",
   "language": "python",
   "name": "condatorch"
  },
  "language_info": {
   "codemirror_mode": {
    "name": "ipython",
    "version": 3
   },
   "file_extension": ".py",
   "mimetype": "text/x-python",
   "name": "python",
   "nbconvert_exporter": "python",
   "pygments_lexer": "ipython3",
   "version": "3.7.6"
  }
 },
 "nbformat": 4,
 "nbformat_minor": 4
}
